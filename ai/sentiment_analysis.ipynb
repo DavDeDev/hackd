{
 "cells": [
  {
   "cell_type": "code",
   "execution_count": 8,
   "metadata": {},
   "outputs": [],
   "source": [
    "import pandas as pd\n",
    "import cohere\n",
    "df = pd.read_csv('/Users/saikrishna/Downloads/GetGitData/datab.csv')"
   ]
  },
  {
   "cell_type": "code",
   "execution_count": 9,
   "metadata": {},
   "outputs": [],
   "source": [
    "language_columns = [col for col in df.columns if '%' in col]\n",
    "df['Skills'] = df.apply(lambda row: {lang.replace('%', ''): row[lang] for lang in language_columns if row[lang] > 0}, axis=1)"
   ]
  },
  {
   "cell_type": "code",
   "execution_count": 10,
   "metadata": {},
   "outputs": [],
   "source": [
    "def generate_summary(row):\n",
    "    skills = row['Skills']\n",
    "    sorted_skills = sorted(skills.items(), key=lambda x: x[1], reverse=True)\n",
    "    skill_descriptions = [f\"{skill} ({percentage}%)\" for skill, percentage in sorted_skills]\n",
    "    return f\"User {row['Username']} is proficient in {', '.join(skill_descriptions)}.\"\n",
    "df['SkillSummary'] = df.apply(generate_summary, axis=1)\n"
   ]
  },
  {
   "cell_type": "code",
   "execution_count": 11,
   "metadata": {},
   "outputs": [
    {
     "name": "stdout",
     "output_type": "stream",
     "text": [
      "          Username             CreatedAt  \\\n",
      "0          savolai  2011-06-11T18:04:13Z   \n",
      "1         jantatje  2014-04-21T09:39:45Z   \n",
      "2         dharnnie  2016-11-29T10:15:26Z   \n",
      "3           zengsn  2011-02-20T05:48:40Z   \n",
      "4    shriroopjoshi  2013-08-11T11:06:26Z   \n",
      "..             ...                   ...   \n",
      "642      sonicning  2013-12-19T05:00:12Z   \n",
      "643  shubhamsingh5  2016-09-19T21:11:32Z   \n",
      "644     GramGibson  2010-06-29T20:22:11Z   \n",
      "645    minecrawler  2011-10-15T23:34:28Z   \n",
      "646  elementalvoid  2009-11-20T23:03:24Z   \n",
      "\n",
      "                                             AvatarUrl  Id  Contributions  \\\n",
      "0    https://avatars.githubusercontent.com/u/844183...   1             90   \n",
      "1    https://avatars.githubusercontent.com/u/736027...   1              8   \n",
      "2    https://avatars.githubusercontent.com/u/242459...   2              0   \n",
      "3    https://avatars.githubusercontent.com/u/627946...   1            659   \n",
      "4    https://avatars.githubusercontent.com/u/520712...   1              1   \n",
      "..                                                 ...  ..            ...   \n",
      "642  https://avatars.githubusercontent.com/u/622012...   2              0   \n",
      "643  https://avatars.githubusercontent.com/u/223063...   1              0   \n",
      "644  https://avatars.githubusercontent.com/u/317921...   1            307   \n",
      "645  https://avatars.githubusercontent.com/u/113070...   2            137   \n",
      "646  https://avatars.githubusercontent.com/u/156165...   2            774   \n",
      "\n",
      "     JavaScript  %JavaScript  Python  %Python    Java  ...  Pascal  %Pascal  \\\n",
      "0         62447        10.79       0     0.00       0  ...       0      0.0   \n",
      "1           158         0.00       0     0.00       0  ...       0      0.0   \n",
      "2         32780         3.25       0     0.00   24560  ...       0      0.0   \n",
      "3             0         0.00    6140     2.96       0  ...       0      0.0   \n",
      "4         11940         5.09       0     0.00  208960  ...       0      0.0   \n",
      "..          ...          ...     ...      ...     ...  ...     ...      ...   \n",
      "642           0         0.00       0     0.00  384928  ...       0      0.0   \n",
      "643       39170         2.69       0     0.00   82388  ...       0      0.0   \n",
      "644           0         0.00       0     0.00       0  ...       0      0.0   \n",
      "645        5844         2.45       0     0.00       0  ...       0      0.0   \n",
      "646           0         0.00    2396     1.13       0  ...       0      0.0   \n",
      "\n",
      "     Racket  %Racket  Zig  %Zig   Other  %Other  \\\n",
      "0         0      0.0    0   0.0  386449   66.74   \n",
      "1         0      0.0    0   0.0   72613    0.77   \n",
      "2         0      0.0    0   0.0       0    0.00   \n",
      "3         0      0.0    0   0.0    1159    0.56   \n",
      "4         0      0.0    0   0.0     274    0.12   \n",
      "..      ...      ...  ...   ...     ...     ...   \n",
      "642       0      0.0    0   0.0       0    0.00   \n",
      "643       0      0.0    0   0.0  269360   18.51   \n",
      "644       0      0.0    0   0.0       0    0.00   \n",
      "645       0      0.0    0   0.0   10881    4.56   \n",
      "646       0      0.0    0   0.0   55088   26.04   \n",
      "\n",
      "                                                Skills  \\\n",
      "0    {'JavaScript': 10.79, 'PHP': 0.19, 'C++': 17.5...   \n",
      "1    {'PHP': 0.07, 'C': 4.1, 'Shell': 95.05, 'HTML'...   \n",
      "2    {'JavaScript': 3.25, 'Java': 2.44, 'Go': 6.99,...   \n",
      "3    {'Python': 2.96, 'C': 2.52, 'Objective-C': 1.0...   \n",
      "4    {'JavaScript': 5.09, 'Java': 89.05, 'Shell': 0...   \n",
      "..                                                 ...   \n",
      "642                                    {'Java': 100.0}   \n",
      "643  {'JavaScript': 2.69, 'Java': 5.66, 'C++': 4.28...   \n",
      "644                                      {'C#': 100.0}   \n",
      "645  {'JavaScript': 2.45, 'TypeScript': 91.7, 'Rust...   \n",
      "646  {'Python': 1.13, 'Ruby': 0.61, 'Go': 5.07, 'Sh...   \n",
      "\n",
      "                                          SkillSummary  \n",
      "0    User savolai is proficient in Other (66.74%), ...  \n",
      "1    User jantatje is proficient in Shell (95.05%),...  \n",
      "2    User dharnnie is proficient in HTML (55.04%), ...  \n",
      "3    User zengsn is proficient in MATLAB (92.9%), P...  \n",
      "4    User shriroopjoshi is proficient in Java (89.0...  \n",
      "..                                                 ...  \n",
      "642     User sonicning is proficient in Java (100.0%).  \n",
      "643  User shubhamsingh5 is proficient in C (62.53%)...  \n",
      "644      User GramGibson is proficient in C# (100.0%).  \n",
      "645  User minecrawler is proficient in TypeScript (...  \n",
      "646  User elementalvoid is proficient in Shell (67....  \n",
      "\n",
      "[647 rows x 63 columns]\n"
     ]
    }
   ],
   "source": [
    "print(df)"
   ]
  },
  {
   "cell_type": "code",
   "execution_count": 12,
   "metadata": {},
   "outputs": [],
   "source": [
    "import cohere\n",
    "co = cohere.Client('eEnhJhgFPTaGPmZiFzIwWVmZSHADwdPDlLECeZDe')\n"
   ]
  },
  {
   "cell_type": "code",
   "execution_count": 16,
   "metadata": {},
   "outputs": [],
   "source": [
    "def identify_weakness(summary):\n",
    "    prompt = f\"{summary}\\n\\nIdentify the user's weaknesses and areas for improvement.\"\n",
    "    response = co.generate(model='command', prompt=prompt, max_tokens=50)\n",
    "    return response.generations[0].text.strip()\n",
    "df['Weaknesses'] = df['SkillSummary'].apply(identify_weakness)"
   ]
  },
  {
   "cell_type": "code",
   "execution_count": 20,
   "metadata": {},
   "outputs": [],
   "source": [
    "embeddings = co.embed(texts=df['SkillSummary'].tolist(), model='large').embeddings\n",
    "df['Embeddings'] = embeddings"
   ]
  },
  {
   "cell_type": "code",
   "execution_count": 23,
   "metadata": {},
   "outputs": [],
   "source": [
    "from sklearn.metrics.pairwise import cosine_similarity\n",
    "import numpy as np\n",
    "\n",
    "similarity_matrix = cosine_similarity(embeddings)\n"
   ]
  },
  {
   "cell_type": "code",
   "execution_count": 24,
   "metadata": {},
   "outputs": [],
   "source": [
    "def find_complementary_users(user_index):\n",
    "    user_similarities = similarity_matrix[user_index]\n",
    "    complementary_indices = np.argsort(user_similarities)\n",
    "    # Exclude the user themselves\n",
    "    complementary_indices = complementary_indices[complementary_indices != user_index]\n",
    "    return df.iloc[complementary_indices[:5]]['Username'].tolist()\n",
    "df['ComplementaryUsers'] = df.index.map(find_complementary_users)"
   ]
  },
  {
   "cell_type": "code",
   "execution_count": 25,
   "metadata": {},
   "outputs": [],
   "source": [
    "def generate_recommendation(row):\n",
    "    recommendation = f\"User {row['Username']} could improve in {row['Weaknesses']}.\\n\"\n",
    "    recommendation += f\"Potential teammates to complement their skills: {', '.join(row['ComplementaryUsers'])}.\"\n",
    "    return recommendation\n",
    "df['Recommendation'] = df.apply(generate_recommendation, axis=1)\n"
   ]
  },
  {
   "cell_type": "code",
   "execution_count": 26,
   "metadata": {},
   "outputs": [],
   "source": [
    "df[['Username', 'Recommendation']].to_csv('recommendations.csv', index=False)\n"
   ]
  }
 ],
 "metadata": {
  "kernelspec": {
   "display_name": ".venv",
   "language": "python",
   "name": "python3"
  },
  "language_info": {
   "codemirror_mode": {
    "name": "ipython",
    "version": 3
   },
   "file_extension": ".py",
   "mimetype": "text/x-python",
   "name": "python",
   "nbconvert_exporter": "python",
   "pygments_lexer": "ipython3",
   "version": "3.9.6"
  }
 },
 "nbformat": 4,
 "nbformat_minor": 2
}
